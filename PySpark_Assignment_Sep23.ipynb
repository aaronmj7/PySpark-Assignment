{
  "cells": [
    {
      "cell_type": "markdown",
      "metadata": {
        "id": "view-in-github",
        "colab_type": "text"
      },
      "source": [
        "<a href=\"https://colab.research.google.com/github/aaronmj7/PySpark-Assignment/blob/main/PySpark_Assignment_Sep23.ipynb\" target=\"_parent\"><img src=\"https://colab.research.google.com/assets/colab-badge.svg\" alt=\"Open In Colab\"/></a>"
      ]
    },
    {
      "cell_type": "markdown",
      "metadata": {
        "id": "ViQdeQ5m1E2Z"
      },
      "source": [
        "# ADS2 - Assignment 1 - Data Handling and Processing with PySpark\n",
        "\n",
        "**STUDENT NAME - Aaron Modiyil Joseph**\n",
        "\n",
        "**STUDENT ID - 22018497**\n",
        "\n",
        "In this assignment, you will be analysing the popularity of films and TV shows on the streaming platform, Netflix. Using your knowledge of PySpark DataFrames and Spark SQL, you will produce a number of \"downstream\" data products to analyse trends in global streaming habits.\n",
        "\n",
        "Download the dataset from this [Kaggle](https://www.kaggle.com/dhruvildave/netflix-top-10-tv-shows-and-films) page. A copy of the `all_weeks_countries.csv` file is also available on the canvas page for this assignment.\n",
        "\n",
        "Your task is to load in the data and produce a number of \"downstream\" data products and plots as described below.\n",
        "\n",
        "The PySpark installation and setup is provided below for conveinience.\n",
        "\n",
        "IMPORTANT: DO NOT EDIT OR REMOVE THE COMMENT TAGS IN THE CODE CELLS"
      ]
    },
    {
      "cell_type": "code",
      "execution_count": 32,
      "metadata": {
        "id": "5lb-Z7ZM8O3s"
      },
      "outputs": [],
      "source": [
        "# CodeGrade Tag Init1\n",
        "\n",
        "# Apache Spark uses Java, so first we must install that\n",
        "!apt-get install openjdk-8-jdk-headless -qq > /dev/null"
      ]
    },
    {
      "cell_type": "code",
      "execution_count": 33,
      "metadata": {
        "id": "ixa72o938SKP",
        "colab": {
          "base_uri": "https://localhost:8080/"
        },
        "outputId": "c95c4195-92a2-41a3-f6d0-154fb5484938"
      },
      "outputs": [
        {
          "output_type": "stream",
          "name": "stdout",
          "text": [
            "Drive already mounted at /content/drive; to attempt to forcibly remount, call drive.mount(\"/content/drive\", force_remount=True).\n"
          ]
        }
      ],
      "source": [
        "# CodeGrade Tag Init2\n",
        "# Mount Google Drive and unpack Spark\n",
        "from google.colab import drive\n",
        "drive.mount('/content/drive')\n",
        "!tar xzf /content/drive/MyDrive/spark-3.3.0-bin-hadoop3.tgz"
      ]
    },
    {
      "cell_type": "code",
      "execution_count": 34,
      "metadata": {
        "id": "yWT7_XiQ8V6u"
      },
      "outputs": [],
      "source": [
        "# CodeGrade Tag Init3\n",
        "# Set up environment variables\n",
        "import os\n",
        "os.environ[\"JAVA_HOME\"] = \"/usr/lib/jvm/java-8-openjdk-amd64\"\n",
        "os.environ[\"SPARK_HOME\"] = \"/content/spark-3.3.0-bin-hadoop3\""
      ]
    },
    {
      "cell_type": "code",
      "execution_count": 35,
      "metadata": {
        "id": "UPSvq-aj8Z_k"
      },
      "outputs": [],
      "source": [
        "# CodeGrade Tag Init4\n",
        "# Install findspark, which helps python locate the pyspark module files\n",
        "!pip install -q findspark\n",
        "import findspark\n",
        "findspark.init()"
      ]
    },
    {
      "cell_type": "code",
      "execution_count": 36,
      "metadata": {
        "id": "kXT8Q_IO8cVe"
      },
      "outputs": [],
      "source": [
        "# Finally, we initialse a \"SparkSession\", which handles the computations\n",
        "from pyspark.sql import SparkSession\n",
        "spark = SparkSession.builder\\\n",
        "        .master(\"local\")\\\n",
        "        .appName(\"Colab\")\\\n",
        "        .config('spark.ui.port', '4050')\\\n",
        "        .getOrCreate()"
      ]
    },
    {
      "cell_type": "code",
      "execution_count": 37,
      "metadata": {
        "id": "nY0UxWbdDcag"
      },
      "outputs": [],
      "source": [
        "# Load the all_weeks_countries.csv into your Colab Notebook as a DataFrame.\n",
        "netflixcsvpath = '/content/drive/MyDrive/all-weeks-countries.csv'\n",
        "\n",
        "# Data is loaded with header: True and an inferred schema\n",
        "netflixDF = (spark\n",
        "           .read\n",
        "           .option('header', 'True')\n",
        "           .option('inferSchema', 'True')\n",
        "           .csv(netflixcsvpath)\n",
        "          )"
      ]
    },
    {
      "cell_type": "code",
      "execution_count": 52,
      "metadata": {
        "id": "adZdlbyGL7Mj"
      },
      "outputs": [],
      "source": [
        "# pyspark.sql.functions countains all the transformations and actions you will\n",
        "# need\n",
        "from pyspark.sql import functions as F"
      ]
    },
    {
      "cell_type": "markdown",
      "metadata": {
        "id": "yfW6RnY_GZpE"
      },
      "source": [
        "# Exercise 1 - Data Preparation\n",
        "\n",
        "\n",
        "1.   Create two separate DataFrames for Films and TV.\n",
        "2.   For the Films data, drop the column containing the season names.\n",
        "3.   For the TV data, replace any null values in the season name column with the show name."
      ]
    },
    {
      "cell_type": "code",
      "execution_count": 53,
      "metadata": {
        "id": "I7PS8iZgqwjt",
        "colab": {
          "base_uri": "https://localhost:8080/"
        },
        "outputId": "5bcbc805-64cf-4e2a-d713-950fc3dab9da"
      },
      "outputs": [
        {
          "output_type": "stream",
          "name": "stdout",
          "text": [
            "+------------+------------+-------------------+--------+-----------+--------------------+--------------------+--------------------------+\n",
            "|country_name|country_iso2|               week|category|weekly_rank|          show_title|        season_title|cumulative_weeks_in_top_10|\n",
            "+------------+------------+-------------------+--------+-----------+--------------------+--------------------+--------------------------+\n",
            "|   Argentina|          AR|2022-08-21 00:00:00|   Films|          1|      Look Both Ways|                null|                         1|\n",
            "|   Argentina|          AR|2022-08-21 00:00:00|   Films|          2|           Day Shift|                null|                         2|\n",
            "|   Argentina|          AR|2022-08-21 00:00:00|   Films|          3|Bank Robbers: The...|                null|                         2|\n",
            "|   Argentina|          AR|2022-08-21 00:00:00|   Films|          4|   The Next 365 Days|                null|                         1|\n",
            "|   Argentina|          AR|2022-08-21 00:00:00|   Films|          5|The Angry Birds M...|                null|                         1|\n",
            "|   Argentina|          AR|2022-08-21 00:00:00|   Films|          6|       Purple Hearts|                null|                         4|\n",
            "|   Argentina|          AR|2022-08-21 00:00:00|   Films|          7|      River Runs Red|                null|                         1|\n",
            "|   Argentina|          AR|2022-08-21 00:00:00|   Films|          8|                1917|                null|                         2|\n",
            "|   Argentina|          AR|2022-08-21 00:00:00|   Films|          9|  Code Name: Emperor|                null|                         2|\n",
            "|   Argentina|          AR|2022-08-21 00:00:00|   Films|         10|           Royalteen|                null|                         1|\n",
            "|   Argentina|          AR|2022-08-21 00:00:00|      TV|          1| Pasión de Gavilanes|Pasión de Gavilan...|                         5|\n",
            "|   Argentina|          AR|2022-08-21 00:00:00|      TV|          2|        Another Self|Another Self: Sea...|                         4|\n",
            "|   Argentina|          AR|2022-08-21 00:00:00|      TV|          3| Pasión de Gavilanes|Pasión de Gavilan...|                        58|\n",
            "|   Argentina|          AR|2022-08-21 00:00:00|      TV|          4|            Manifest|  Manifest: Season 1|                         6|\n",
            "|   Argentina|          AR|2022-08-21 00:00:00|      TV|          5|         The Sandman|The Sandman: Seas...|                         3|\n",
            "|   Argentina|          AR|2022-08-21 00:00:00|      TV|          6|Extraordinary Att...|Extraordinary Att...|                         2|\n",
            "|   Argentina|          AR|2022-08-21 00:00:00|      TV|          7|           High Heat| High Heat: Season 1|                         1|\n",
            "|   Argentina|          AR|2022-08-21 00:00:00|      TV|          8|            Manifest|  Manifest: Season 2|                         5|\n",
            "|   Argentina|          AR|2022-08-21 00:00:00|      TV|          9|            Manifest|  Manifest: Season 3|                         4|\n",
            "|   Argentina|          AR|2022-08-21 00:00:00|      TV|         10|   Never Have I Ever|Never Have I Ever...|                         2|\n",
            "+------------+------------+-------------------+--------+-----------+--------------------+--------------------+--------------------------+\n",
            "only showing top 20 rows\n",
            "\n",
            "root\n",
            " |-- country_name: string (nullable = true)\n",
            " |-- country_iso2: string (nullable = true)\n",
            " |-- week: timestamp (nullable = true)\n",
            " |-- category: string (nullable = true)\n",
            " |-- weekly_rank: integer (nullable = true)\n",
            " |-- show_title: string (nullable = true)\n",
            " |-- season_title: string (nullable = true)\n",
            " |-- cumulative_weeks_in_top_10: integer (nullable = true)\n",
            "\n"
          ]
        }
      ],
      "source": [
        "# CodeGrade Tag Ex1a\n",
        "\n",
        "### Display the table and its schema\n",
        "\n",
        "netflixDF.show()\n",
        "netflixDF.printSchema()"
      ]
    },
    {
      "cell_type": "code",
      "execution_count": 54,
      "metadata": {
        "id": "qfke8sGRN5ns"
      },
      "outputs": [],
      "source": [
        "# CodeGrade Tag Ex1b\n",
        "\n",
        "### Seperate the data into two DataFrames for Films and TV\n",
        "### Call the dataframes tvDF and filmsDF\n",
        "\n",
        "filmsDF = netflixDF.filter('category == \"Films\"')\n",
        "\n",
        "tvDF = netflixDF.filter('category == \"TV\"')"
      ]
    },
    {
      "cell_type": "code",
      "execution_count": 55,
      "metadata": {
        "id": "X7JsDYkQN7Zw",
        "colab": {
          "base_uri": "https://localhost:8080/"
        },
        "outputId": "97660af4-ce4e-4308-ff53-e88637dd15d5"
      },
      "outputs": [
        {
          "output_type": "stream",
          "name": "stdout",
          "text": [
            "+------------+------------+-------------------+--------+-----------+--------------------+--------------------------+\n",
            "|country_name|country_iso2|               week|category|weekly_rank|          show_title|cumulative_weeks_in_top_10|\n",
            "+------------+------------+-------------------+--------+-----------+--------------------+--------------------------+\n",
            "|   Argentina|          AR|2022-08-21 00:00:00|   Films|          1|      Look Both Ways|                         1|\n",
            "|   Argentina|          AR|2022-08-21 00:00:00|   Films|          2|           Day Shift|                         2|\n",
            "|   Argentina|          AR|2022-08-21 00:00:00|   Films|          3|Bank Robbers: The...|                         2|\n",
            "|   Argentina|          AR|2022-08-21 00:00:00|   Films|          4|   The Next 365 Days|                         1|\n",
            "|   Argentina|          AR|2022-08-21 00:00:00|   Films|          5|The Angry Birds M...|                         1|\n",
            "|   Argentina|          AR|2022-08-21 00:00:00|   Films|          6|       Purple Hearts|                         4|\n",
            "|   Argentina|          AR|2022-08-21 00:00:00|   Films|          7|      River Runs Red|                         1|\n",
            "|   Argentina|          AR|2022-08-21 00:00:00|   Films|          8|                1917|                         2|\n",
            "|   Argentina|          AR|2022-08-21 00:00:00|   Films|          9|  Code Name: Emperor|                         2|\n",
            "|   Argentina|          AR|2022-08-21 00:00:00|   Films|         10|           Royalteen|                         1|\n",
            "|   Argentina|          AR|2022-08-14 00:00:00|   Films|          1|Bank Robbers: The...|                         1|\n",
            "|   Argentina|          AR|2022-08-14 00:00:00|   Films|          2|       Purple Hearts|                         3|\n",
            "|   Argentina|          AR|2022-08-14 00:00:00|   Films|          3|                1917|                         1|\n",
            "|   Argentina|          AR|2022-08-14 00:00:00|   Films|          4|           Day Shift|                         1|\n",
            "|   Argentina|          AR|2022-08-14 00:00:00|   Films|          5|  Code Name: Emperor|                         1|\n",
            "|   Argentina|          AR|2022-08-14 00:00:00|   Films|          6|              Carter|                         2|\n",
            "|   Argentina|          AR|2022-08-14 00:00:00|   Films|          7|          Recurrence|                         3|\n",
            "|   Argentina|          AR|2022-08-14 00:00:00|   Films|          8|      Wedding Season|                         2|\n",
            "|   Argentina|          AR|2022-08-14 00:00:00|   Films|          9|        Dreamkatcher|                         1|\n",
            "|   Argentina|          AR|2022-08-14 00:00:00|   Films|         10|        The Gray Man|                         4|\n",
            "+------------+------------+-------------------+--------+-----------+--------------------+--------------------------+\n",
            "only showing top 20 rows\n",
            "\n"
          ]
        }
      ],
      "source": [
        "# CodeGrade Tag Ex1c\n",
        "\n",
        "### Drop the 'season_title' column from the Films DataFrame, display the table\n",
        "\n",
        "filmsDF = filmsDF.drop('season_title')\n",
        "filmsDF.show()"
      ]
    },
    {
      "cell_type": "code",
      "execution_count": 56,
      "metadata": {
        "id": "4M83pWB5N9Ar",
        "colab": {
          "base_uri": "https://localhost:8080/"
        },
        "outputId": "4a440497-cfec-488a-9016-897d2e770d95"
      },
      "outputs": [
        {
          "output_type": "stream",
          "name": "stdout",
          "text": [
            "+------------+------------+-------------------+--------+-----------+--------------------+--------------------+--------------------------+\n",
            "|country_name|country_iso2|               week|category|weekly_rank|          show_title|        season_title|cumulative_weeks_in_top_10|\n",
            "+------------+------------+-------------------+--------+-----------+--------------------+--------------------+--------------------------+\n",
            "|   Argentina|          AR|2022-08-21 00:00:00|      TV|          1| Pasión de Gavilanes|Pasión de Gavilan...|                         5|\n",
            "|   Argentina|          AR|2022-08-21 00:00:00|      TV|          2|        Another Self|Another Self: Sea...|                         4|\n",
            "|   Argentina|          AR|2022-08-21 00:00:00|      TV|          3| Pasión de Gavilanes|Pasión de Gavilan...|                        58|\n",
            "|   Argentina|          AR|2022-08-21 00:00:00|      TV|          4|            Manifest|  Manifest: Season 1|                         6|\n",
            "|   Argentina|          AR|2022-08-21 00:00:00|      TV|          5|         The Sandman|The Sandman: Seas...|                         3|\n",
            "|   Argentina|          AR|2022-08-21 00:00:00|      TV|          6|Extraordinary Att...|Extraordinary Att...|                         2|\n",
            "|   Argentina|          AR|2022-08-21 00:00:00|      TV|          7|           High Heat| High Heat: Season 1|                         1|\n",
            "|   Argentina|          AR|2022-08-21 00:00:00|      TV|          8|            Manifest|  Manifest: Season 2|                         5|\n",
            "|   Argentina|          AR|2022-08-21 00:00:00|      TV|          9|            Manifest|  Manifest: Season 3|                         4|\n",
            "|   Argentina|          AR|2022-08-21 00:00:00|      TV|         10|   Never Have I Ever|Never Have I Ever...|                         2|\n",
            "|   Argentina|          AR|2022-08-14 00:00:00|      TV|          1| Pasión de Gavilanes|Pasión de Gavilan...|                         4|\n",
            "|   Argentina|          AR|2022-08-14 00:00:00|      TV|          2|        Another Self|Another Self: Sea...|                         3|\n",
            "|   Argentina|          AR|2022-08-14 00:00:00|      TV|          3|         The Sandman|The Sandman: Seas...|                         2|\n",
            "|   Argentina|          AR|2022-08-14 00:00:00|      TV|          4| Pasión de Gavilanes|Pasión de Gavilan...|                        57|\n",
            "|   Argentina|          AR|2022-08-14 00:00:00|      TV|          5|            Manifest|  Manifest: Season 1|                         5|\n",
            "|   Argentina|          AR|2022-08-14 00:00:00|      TV|          6|Extraordinary Att...|Extraordinary Att...|                         1|\n",
            "|   Argentina|          AR|2022-08-14 00:00:00|      TV|          7|                Alba|      Alba: Season 1|                         5|\n",
            "|   Argentina|          AR|2022-08-14 00:00:00|      TV|          8|            Manifest|  Manifest: Season 2|                         4|\n",
            "|   Argentina|          AR|2022-08-14 00:00:00|      TV|          9|            Manifest|  Manifest: Season 3|                         3|\n",
            "|   Argentina|          AR|2022-08-14 00:00:00|      TV|         10|   Never Have I Ever|Never Have I Ever...|                         1|\n",
            "+------------+------------+-------------------+--------+-----------+--------------------+--------------------+--------------------------+\n",
            "only showing top 20 rows\n",
            "\n"
          ]
        }
      ],
      "source": [
        "# CodeGrade Tag Ex1d\n",
        "\n",
        "### Use the F.isnull function to create a column showing where there are null\n",
        "### values in the 'season_title' column. Replace the null values with the\n",
        "### corresponding value from the 'show_title' column, then replace the\n",
        "### 'season_title' column in the tvDF DataFrame.\n",
        "\n",
        "tvDF = tvDF.withColumn('season_title',\n",
        "                       F.when(F.isnull('season_title'), F.col('show_title'))\n",
        "                       .otherwise(F.col('season_title')))\n",
        "tvDF.show()"
      ]
    },
    {
      "cell_type": "markdown",
      "metadata": {
        "id": "rAHZm5_9IzTn"
      },
      "source": [
        "# Exercise 2\n",
        "\n",
        "Making use of the \"groupBy\" and \"where\" methods, find the number of weeks the show \"Stranger Things\" was in the Top 10 for the United Kingdom across all seasons. Store your result in a variable named \"STWeeks\"\n"
      ]
    },
    {
      "cell_type": "code",
      "execution_count": 57,
      "metadata": {
        "id": "68QRfnJsvIdt",
        "colab": {
          "base_uri": "https://localhost:8080/"
        },
        "outputId": "d0f730b2-8e55-46d4-c86a-77870357bfbd"
      },
      "outputs": [
        {
          "output_type": "stream",
          "name": "stdout",
          "text": [
            "+---------------+---------------+\n",
            "|     show_title|weeks_in_top_10|\n",
            "+---------------+---------------+\n",
            "|Stranger Things|             13|\n",
            "+---------------+---------------+\n",
            "\n"
          ]
        }
      ],
      "source": [
        "# CodeGrade Tag Ex2\n",
        "### Use the \"where\" method to create a new dataframe containing the data for\n",
        "### the show Stranger Things in the Uniter Kingdom. Call this dataframe STDF.\n",
        "\n",
        "STDF = tvDF.where('country_name == \"United Kingdom\" and\\\n",
        "                   show_title == \"Stranger Things\"')\n",
        "\n",
        "### Using \"groupBy\" method and \"F.count_distinct\" function, find the total number of weeks\n",
        "### Stranger Things spent in the top 10 of the UK, across all seasons. Show the\n",
        "### result.\n",
        "\n",
        "STWeeks = STDF.groupBy('show_title')\\\n",
        "              .agg(F.count_distinct('week').alias('weeks_in_top_10'))\n",
        "STWeeks.show()"
      ]
    },
    {
      "cell_type": "markdown",
      "metadata": {
        "id": "o1i0AYsUzfOl"
      },
      "source": [
        "# Exercise 3\n",
        "\n",
        "Produce a dataframe containing only the Top 25 TV seasons in the UK, based on the number of weeks they spent in the Top 10."
      ]
    },
    {
      "cell_type": "code",
      "execution_count": 58,
      "metadata": {
        "id": "JvD5HHZpSOLM",
        "colab": {
          "base_uri": "https://localhost:8080/"
        },
        "outputId": "29414682-c740-41cf-d48f-1fc76e06e539"
      },
      "outputs": [
        {
          "output_type": "stream",
          "name": "stdout",
          "text": [
            "+--------------------+---------------+\n",
            "|        season_title|weeks_in_top_10|\n",
            "+--------------------+---------------+\n",
            "|   Stranger Things 4|             13|\n",
            "|     Ozark: Season 4|             12|\n",
            "|   Stranger Things 3|             12|\n",
            "|   Stranger Things 2|             11|\n",
            "|Squid Game: Season 1|             10|\n",
            "|     Stranger Things|             10|\n",
            "|Better Call Saul:...|             10|\n",
            "|Bridgerton: Season 2|              9|\n",
            "|Maid: Limited Series|              9|\n",
            "|PAW Patrol: Season 6|              9|\n",
            "|Inventing Anna: L...|              8|\n",
            "| Money Heist: Part 5|              7|\n",
            "|  Sex/Life: Season 1|              7|\n",
            "|PIECES OF HER: Se...|              7|\n",
            "|Clickbait: Limite...|              6|\n",
            "|Sex Education: Se...|              6|\n",
            "|Virgin River: Sea...|              6|\n",
            "|Young Sheldon: : ...|              6|\n",
            "|Young Sheldon: : ...|              6|\n",
            "|The Lincoln Lawye...|              6|\n",
            "|       You: Season 3|              6|\n",
            "|PAW Patrol: Season 4|              6|\n",
            "|The Umbrella Acad...|              5|\n",
            "|Love Is Blind: Se...|              5|\n",
            "|The Witcher: Seas...|              5|\n",
            "+--------------------+---------------+\n",
            "\n"
          ]
        }
      ],
      "source": [
        "# CodeGrade Tag Ex3\n",
        "### Produce a dataframe containing the top 25 seasons by number of weeks in the\n",
        "### top 10 of the United Kingdom, sorted by number of weeks. Store the dataframe\n",
        "### in a variable called Top25\n",
        "\n",
        "Top25 = (tvDF.filter('country_name == \"United Kingdom\"')\n",
        "        .groupby('season_title')\n",
        "        .agg(F.max('cumulative_weeks_in_top_10').alias('weeks_in_top_10'))\n",
        "        .sort(F.desc('weeks_in_top_10'))\n",
        "        .limit(25))\n",
        "Top25.show(25)"
      ]
    },
    {
      "cell_type": "markdown",
      "metadata": {
        "id": "QSLCobP5Tpmp"
      },
      "source": [
        "# Exercise 4\n",
        "\n",
        "For the show \"Young Sheldon\", find the country where each season spent the most time in the Top 10."
      ]
    },
    {
      "cell_type": "code",
      "execution_count": 59,
      "metadata": {
        "id": "ocBh6iMbkQ0t",
        "colab": {
          "base_uri": "https://localhost:8080/"
        },
        "outputId": "f04ccc4e-7fdc-4ba9-f887-a2a644f911d5"
      },
      "outputs": [
        {
          "output_type": "stream",
          "name": "stdout",
          "text": [
            "+--------------------+--------------+---------------+\n",
            "|        season_title|  country_name|weeks_in_top_10|\n",
            "+--------------------+--------------+---------------+\n",
            "|Young Sheldon: Se...|     Australia|              1|\n",
            "|Young Sheldon: Se...|   New Zealand|              1|\n",
            "|Young Sheldon: : ...|United Kingdom|              6|\n",
            "|Young Sheldon: : ...|       Ireland|              6|\n",
            "|Young Sheldon: : ...|United Kingdom|              6|\n",
            "|Young Sheldon: : ...|        Canada|              6|\n",
            "|Young Sheldon: : ...|United Kingdom|              4|\n",
            "+--------------------+--------------+---------------+\n",
            "\n"
          ]
        }
      ],
      "source": [
        "# CodeGrade Tag Ex4\n",
        "### For each season of the show \"Young Sheldon\" find the countries where it spent\n",
        "### the most time in the Top 10\n",
        "\n",
        "YSDF = (tvDF.filter('show_title == \"Young Sheldon\"')\n",
        "        .groupBy('season_title', 'country_name')\n",
        "        .agg(F.max('cumulative_weeks_in_top_10').alias('weeks_in_top_10'))\n",
        "        .sort(F.desc('weeks_in_top_10')))\n",
        "\n",
        "(YSDF.groupBy('season_title')\n",
        ".agg(F.max('weeks_in_top_10').alias('weeks_in_top_10')) # taking only the max weeks in top 10\n",
        ".join(YSDF, ['season_title', 'weeks_in_top_10']) # joining to get country_name column\n",
        ".select('season_title', 'country_name', 'weeks_in_top_10') # reordering columns\n",
        ".show())"
      ]
    },
    {
      "cell_type": "markdown",
      "metadata": {
        "id": "aOi5jbLgTupk"
      },
      "source": [
        "# Exercise 5\n",
        "\n",
        "For each country, find the film that spent the most time in the Top 10."
      ]
    },
    {
      "cell_type": "code",
      "execution_count": 60,
      "metadata": {
        "id": "hYz243A8kkNG",
        "colab": {
          "base_uri": "https://localhost:8080/"
        },
        "outputId": "d7dc5f8f-2650-40d5-fe57-32cfc6749b57"
      },
      "outputs": [
        {
          "output_type": "stream",
          "name": "stdout",
          "text": [
            "+--------------+--------------------+---------------+\n",
            "|  country_name|          show_title|weeks_in_top_10|\n",
            "+--------------+--------------------+---------------+\n",
            "|     Argentina|  Sonic the Hedgehog|              7|\n",
            "|     Australia| Back to the Outback|              8|\n",
            "|       Austria|Harry Potter and ...|              9|\n",
            "|       Bahamas|A Madea Family Fu...|              9|\n",
            "|       Bahamas|  A Madea Homecoming|              9|\n",
            "|       Bahrain|          Red Notice|              8|\n",
            "|    Bangladesh|        Sooryavanshi|             21|\n",
            "|       Belgium|    The Adam Project|              8|\n",
            "|       Bolivia|               Shrek|             18|\n",
            "|        Brazil|Hotel Transylvani...|              7|\n",
            "|      Bulgaria|          Red Notice|             15|\n",
            "|        Canada|How the Grinch St...|              7|\n",
            "|        Canada|    The Adam Project|              7|\n",
            "|         Chile|Hotel Transylvani...|              8|\n",
            "|         Chile|  Sonic the Hedgehog|              8|\n",
            "|      Colombia|          Red Notice|             12|\n",
            "|    Costa Rica|  Sonic the Hedgehog|             10|\n",
            "|       Croatia|          Red Notice|             14|\n",
            "|        Cyprus|          Red Notice|             12|\n",
            "|Czech Republic|   Bet on Friendship|             14|\n",
            "+--------------+--------------------+---------------+\n",
            "only showing top 20 rows\n",
            "\n"
          ]
        }
      ],
      "source": [
        "# CodeGrade Tag Ex5\n",
        "### For each country, find the film that spent the most time in the Top 10\n",
        "### Display the results in a Dataframe ordered by country name.\n",
        "\n",
        "films_weeks_in_top_10 = (filmsDF.groupBy('country_name', 'show_title')\n",
        "                        .agg(F.max('cumulative_weeks_in_top_10')\n",
        "                             .alias('weeks_in_top_10'))\n",
        "                        .sort(F.desc('weeks_in_top_10')))\n",
        "\n",
        "(films_weeks_in_top_10.groupBy('country_name')\n",
        ".agg(F.max('weeks_in_top_10').alias('weeks_in_top_10')) # taking only the max weeks in top 10\n",
        ".join(films_weeks_in_top_10, ['country_name', 'weeks_in_top_10']) # joining to get show_title column\n",
        ".select('country_name', 'show_title', 'weeks_in_top_10') # reordering columns\n",
        ".sort('country_name', 'show_title')\n",
        ".show())"
      ]
    },
    {
      "cell_type": "markdown",
      "metadata": {
        "id": "_YOKr4khadrB"
      },
      "source": [
        "# Exercise 6\n",
        "\n",
        "Calculate the number of weeks each film spent at the number 1 spot of each country's Top 10 list. Then find the films that spent the most time in the number 1 spot for each country."
      ]
    },
    {
      "cell_type": "code",
      "execution_count": 61,
      "metadata": {
        "id": "T4KuEbwgbJar",
        "colab": {
          "base_uri": "https://localhost:8080/"
        },
        "outputId": "a323a29a-6596-417d-bf40-58db21001a6e"
      },
      "outputs": [
        {
          "output_type": "stream",
          "name": "stdout",
          "text": [
            "+------------+------------+-------------------+--------+-----------+--------------------+--------------------------+----------+\n",
            "|country_name|country_iso2|               week|category|weekly_rank|          show_title|cumulative_weeks_in_top_10|weeks_at_1|\n",
            "+------------+------------+-------------------+--------+-----------+--------------------+--------------------------+----------+\n",
            "|   Argentina|          AR|2022-08-21 00:00:00|   Films|          1|      Look Both Ways|                         1|         1|\n",
            "|   Argentina|          AR|2022-08-21 00:00:00|   Films|          2|           Day Shift|                         2|         0|\n",
            "|   Argentina|          AR|2022-08-21 00:00:00|   Films|          3|Bank Robbers: The...|                         2|         0|\n",
            "|   Argentina|          AR|2022-08-21 00:00:00|   Films|          4|   The Next 365 Days|                         1|         0|\n",
            "|   Argentina|          AR|2022-08-21 00:00:00|   Films|          5|The Angry Birds M...|                         1|         0|\n",
            "|   Argentina|          AR|2022-08-21 00:00:00|   Films|          6|       Purple Hearts|                         4|         0|\n",
            "|   Argentina|          AR|2022-08-21 00:00:00|   Films|          7|      River Runs Red|                         1|         0|\n",
            "|   Argentina|          AR|2022-08-21 00:00:00|   Films|          8|                1917|                         2|         0|\n",
            "|   Argentina|          AR|2022-08-21 00:00:00|   Films|          9|  Code Name: Emperor|                         2|         0|\n",
            "|   Argentina|          AR|2022-08-21 00:00:00|   Films|         10|           Royalteen|                         1|         0|\n",
            "|   Argentina|          AR|2022-08-14 00:00:00|   Films|          1|Bank Robbers: The...|                         1|         1|\n",
            "|   Argentina|          AR|2022-08-14 00:00:00|   Films|          2|       Purple Hearts|                         3|         0|\n",
            "|   Argentina|          AR|2022-08-14 00:00:00|   Films|          3|                1917|                         1|         0|\n",
            "|   Argentina|          AR|2022-08-14 00:00:00|   Films|          4|           Day Shift|                         1|         0|\n",
            "|   Argentina|          AR|2022-08-14 00:00:00|   Films|          5|  Code Name: Emperor|                         1|         0|\n",
            "|   Argentina|          AR|2022-08-14 00:00:00|   Films|          6|              Carter|                         2|         0|\n",
            "|   Argentina|          AR|2022-08-14 00:00:00|   Films|          7|          Recurrence|                         3|         0|\n",
            "|   Argentina|          AR|2022-08-14 00:00:00|   Films|          8|      Wedding Season|                         2|         0|\n",
            "|   Argentina|          AR|2022-08-14 00:00:00|   Films|          9|        Dreamkatcher|                         1|         0|\n",
            "|   Argentina|          AR|2022-08-14 00:00:00|   Films|         10|        The Gray Man|                         4|         0|\n",
            "+------------+------------+-------------------+--------+-----------+--------------------+--------------------------+----------+\n",
            "only showing top 20 rows\n",
            "\n"
          ]
        }
      ],
      "source": [
        "# CodeGrade Tag Ex6a\n",
        "\n",
        "### Create a column using the F.when function to calculate the number of weeks a\n",
        "### films spens in the number 1 spot of the Top 10. Use the .otherwise method to\n",
        "### set rows with no number 1 spots to zero. Use the .alias metod to call this\n",
        "### column \"weeks_at_1\"\n",
        "\n",
        "filmsDF = filmsDF.select(F.col('*'), F.when(F.col('weekly_rank') == 1, 1)\n",
        "                .otherwise(0)\n",
        "                .alias('weeks_at_1'))\n",
        "filmsDF.show()"
      ]
    },
    {
      "cell_type": "code",
      "execution_count": 62,
      "metadata": {
        "id": "3bmaFJryC5ub",
        "colab": {
          "base_uri": "https://localhost:8080/"
        },
        "outputId": "1c037888-1b8e-42b9-aa6e-757ec13da7be"
      },
      "outputs": [
        {
          "output_type": "stream",
          "name": "stdout",
          "text": [
            "+------------+-------------------+----------+\n",
            "|country_name|show_title         |weeks_at_1|\n",
            "+------------+-------------------+----------+\n",
            "|Russia      |Don't Look Up      |6         |\n",
            "|Hong Kong   |Don't Look Up      |6         |\n",
            "|Taiwan      |Don't Look Up      |5         |\n",
            "|Taiwan      |Gangubai Kathiawadi|5         |\n",
            "|Vietnam     |Red Notice         |5         |\n",
            "|Israel      |The Tinder Swindler|4         |\n",
            "|Estonia     |Don't Look Up      |4         |\n",
            "|Bangladesh  |Haseen Dillruba    |4         |\n",
            "|Ukraine     |The Tinder Swindler|4         |\n",
            "|Vietnam     |Don't Look Up      |4         |\n",
            "|Croatia     |The Tinder Swindler|4         |\n",
            "|Bulgaria    |Red Notice         |4         |\n",
            "|India       |Haseen Dillruba    |4         |\n",
            "|Jordan      |Red Notice         |4         |\n",
            "|Russia      |The Tinder Swindler|4         |\n",
            "|Slovenia    |Don't Look Up      |4         |\n",
            "|Pakistan    |Haseen Dillruba    |4         |\n",
            "|Denmark     |The Tinder Swindler|4         |\n",
            "|Estonia     |The Tinder Swindler|4         |\n",
            "|Netherlands |The Tinder Swindler|4         |\n",
            "+------------+-------------------+----------+\n",
            "only showing top 20 rows\n",
            "\n"
          ]
        }
      ],
      "source": [
        "# CodeGrade Tag Ex6b\n",
        "\n",
        "### Group by country name and sow title, and use the .agg method and your new\n",
        "### column to find the number of weeks each film spent in the top spot for each\n",
        "### country.\n",
        "\n",
        "films_weeks_at_1 = (filmsDF.groupBy('country_name', 'show_title')\n",
        "                   .agg(F.sum('weeks_at_1').alias('weeks_at_1'))\n",
        "                   .sort(F.desc('weeks_at_1')))\n",
        "\n",
        "films_weeks_at_1.show(truncate=False)"
      ]
    },
    {
      "cell_type": "code",
      "source": [
        "# CodeGrade Tag Ex6c\n",
        "\n",
        "### Produce a dataframe grouped by country name that contains the show title and\n",
        "### number of weeks at the number 1 spot of the top performing film in each\n",
        "### country.\n",
        "\n",
        "(films_weeks_at_1\n",
        ".groupBy('country_name')\n",
        ".agg(F.max('weeks_at_1').alias('weeks_at_1')) # taking only the top film\n",
        ".join(films_weeks_at_1, ['country_name', 'weeks_at_1']) # joining to get show_title column\n",
        ".select('country_name', 'show_title', 'weeks_at_1') # selecting required column only\n",
        ".sort('country_name', 'show_title')\n",
        ".show())"
      ],
      "metadata": {
        "id": "9apP6VYfTBU-",
        "colab": {
          "base_uri": "https://localhost:8080/"
        },
        "outputId": "e3e604ac-9ab8-4fd9-8c4f-b8f90b280100"
      },
      "execution_count": 63,
      "outputs": [
        {
          "output_type": "stream",
          "name": "stdout",
          "text": [
            "+------------+--------------------+----------+\n",
            "|country_name|          show_title|weeks_at_1|\n",
            "+------------+--------------------+----------+\n",
            "|   Argentina|       Don't Look Up|         3|\n",
            "|   Australia|    The Adam Project|         3|\n",
            "|     Austria| The Tinder Swindler|         4|\n",
            "|     Bahamas|  A Madea Homecoming|         2|\n",
            "|     Bahamas|             Bruised|         2|\n",
            "|     Bahamas|           Day Shift|         2|\n",
            "|     Bahamas|              Fatale|         2|\n",
            "|     Bahamas|              Hustle|         2|\n",
            "|     Bahamas|          Red Notice|         2|\n",
            "|     Bahamas|      Resort to Love|         2|\n",
            "|     Bahamas|         Senior Year|         2|\n",
            "|     Bahamas|          Sweet Girl|         2|\n",
            "|     Bahamas|        The Gray Man|         2|\n",
            "|     Bahamas|The Man from Toronto|         2|\n",
            "|     Bahamas|       The Sea Beast|         2|\n",
            "|     Bahrain|       Don't Look Up|         3|\n",
            "|     Bahrain| Gangubai Kathiawadi|         3|\n",
            "|     Bahrain|          Red Notice|         3|\n",
            "|     Bahrain|          The Guilty|         3|\n",
            "|     Bahrain| The Tinder Swindler|         3|\n",
            "+------------+--------------------+----------+\n",
            "only showing top 20 rows\n",
            "\n"
          ]
        }
      ]
    }
  ],
  "metadata": {
    "colab": {
      "provenance": [],
      "include_colab_link": true
    },
    "kernelspec": {
      "display_name": "Python 3",
      "name": "python3"
    },
    "language_info": {
      "name": "python"
    }
  },
  "nbformat": 4,
  "nbformat_minor": 0
}